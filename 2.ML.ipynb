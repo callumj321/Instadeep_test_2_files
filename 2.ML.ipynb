{
 "cells": [
  {
   "cell_type": "code",
   "execution_count": 1,
   "metadata": {},
   "outputs": [],
   "source": [
    "import tensorflow as tf\n",
    "from tensorflow import keras\n",
    "from keras.preprocessing.text import Tokenizer\n",
    "from keras.layers import CuDNNLSTM\n",
    "from tensorflow.keras.preprocessing.sequence import pad_sequences\n",
    "from tensorflow.keras.models import Sequential\n",
    "from tensorflow.keras import (layers,callbacks)\n",
    "from tensorflow.keras.callbacks import EarlyStopping\n",
    "from tensorflow.keras.layers import (\n",
    "    BatchNormalization,\n",
    "    Conv1D,\n",
    "    Dense,\n",
    "    Dropout,\n",
    "    Embedding,\n",
    "    Flatten,\n",
    "    MaxPooling1D,\n",
    "    Activation,\n",
    "    LSTM,\n",
    "    Bidirectional\n",
    ")\n",
    "\n",
    "import sklearn as skl\n",
    "from sklearn import preprocessing\n",
    "import pandas as pd\n",
    "import numpy as np\n",
    "\n",
    "import my_functions as ft # <--- Functions I wrote for the exercise.\n",
    "\n",
    "all_data = pd.read_csv('all_split_data_concat.csv')"
   ]
  },
  {
   "cell_type": "code",
   "execution_count": 2,
   "metadata": {},
   "outputs": [
    {
     "name": "stdout",
     "output_type": "stream",
     "text": [
      "The 1000th most common family has 284 members.\n",
      "The 200th most common family has 730 members.\n"
     ]
    }
   ],
   "source": [
    "print('The 1000th most common family has '+str(all_data.value_counts('family_id')[1000])+' members.')\n",
    "print('The 200th most common family has '+str(all_data.value_counts('family_id')[200])+' members.')"
   ]
  },
  {
   "attachments": {},
   "cell_type": "markdown",
   "metadata": {},
   "source": [
    "Ideally we reduce the dataset to about the 1000 most common families.\\\n",
    "For the sake of computational cost we will reduce it to the 200 most common families.\\\n",
    "\n",
    "This truncation removed families which are exceptionally small as the model will learn these very poorly and may lead to bias.\\\n",
    "\n",
    "As shown in the preliminary analysis the dataset has significant imbalance of features such as family size, sequence length and amino acid abundance."
   ]
  },
  {
   "cell_type": "code",
   "execution_count": 3,
   "metadata": {},
   "outputs": [
    {
     "name": "stdout",
     "output_type": "stream",
     "text": [
      "We still have a dataset containing 195127 points\n",
      "\n",
      "This includes 156275 points for training\n",
      "and 19426 points for testing\n"
     ]
    }
   ],
   "source": [
    "# Cut the dataframe down to the 200 most common families only.\n",
    "families_to_include_count = 200 # <--- How many to cut down to. This value can easily be changed and will follow through for the entire pipeline.\n",
    "families_to_include = all_data.value_counts('family_id')[:families_to_include_count].keys().values # <--- Get the amino acid names.\n",
    "truncated_data = all_data[all_data['family_id'].isin(families_to_include)].reset_index() # <--- Pull out only rows with the most common families.\n",
    "print('We still have a dataset containing '+str(int(len(truncated_data.index)))+' points\\n')\n",
    "print('This includes '+str(int(len(truncated_data.query('split == \"train\"').index)))+' points for training')\n",
    "print('and '+str(int(len(truncated_data.query('split == \"test\"').index)))+' points for testing')"
   ]
  },
  {
   "cell_type": "code",
   "execution_count": 4,
   "metadata": {},
   "outputs": [
    {
     "data": {
      "text/html": [
       "<div>\n",
       "<style scoped>\n",
       "    .dataframe tbody tr th:only-of-type {\n",
       "        vertical-align: middle;\n",
       "    }\n",
       "\n",
       "    .dataframe tbody tr th {\n",
       "        vertical-align: top;\n",
       "    }\n",
       "\n",
       "    .dataframe thead th {\n",
       "        text-align: right;\n",
       "    }\n",
       "</style>\n",
       "<table border=\"1\" class=\"dataframe\">\n",
       "  <thead>\n",
       "    <tr style=\"text-align: right;\">\n",
       "      <th></th>\n",
       "      <th>index</th>\n",
       "      <th>family_id</th>\n",
       "      <th>sequence_name</th>\n",
       "      <th>family_accession</th>\n",
       "      <th>aligned_sequence</th>\n",
       "      <th>sequence</th>\n",
       "      <th>split</th>\n",
       "      <th>sequence_cut</th>\n",
       "    </tr>\n",
       "  </thead>\n",
       "  <tbody>\n",
       "    <tr>\n",
       "      <th>195122</th>\n",
       "      <td>1339064</td>\n",
       "      <td>Integrase_H2C2</td>\n",
       "      <td>C5L013_PERM5/1329-1385</td>\n",
       "      <td>PF17921.1</td>\n",
       "      <td>VPEGDRSQALEAAHGD....GHASPERMLRAMMSTVWWPKMSPDID...</td>\n",
       "      <td>VPEGDRSQALEAAHGDGHASPERMLRAMMSTVWWPKMSPDIDAYCS...</td>\n",
       "      <td>test</td>\n",
       "      <td>[V, P, E, G, D, R, S, Q, A, L, E, A, A, H, G, ...</td>\n",
       "    </tr>\n",
       "    <tr>\n",
       "      <th>195123</th>\n",
       "      <td>1339072</td>\n",
       "      <td>AIRS</td>\n",
       "      <td>F9VEB0_LACGL/446-564</td>\n",
       "      <td>PF00586.24</td>\n",
       "      <td>SD......AA.......................................</td>\n",
       "      <td>SDAAVIRLRHSNKALAMTTDCNARYLYLNPEIGGQIAVAEAARNII...</td>\n",
       "      <td>test</td>\n",
       "      <td>[S, D, A, A, V, I, R, L, R, H, S, N, K, A, L, ...</td>\n",
       "    </tr>\n",
       "    <tr>\n",
       "      <th>195124</th>\n",
       "      <td>1339076</td>\n",
       "      <td>Ribosomal_L22</td>\n",
       "      <td>F2LXT7_HIPMA/5-106</td>\n",
       "      <td>PF00237.19</td>\n",
       "      <td>AFLRS.AK.ISPIKVREVISLVKG......KSVDEALVLLKY..SN...</td>\n",
       "      <td>AFLRSAKISPIKVREVISLVKGKSVDEALVLLKYSNRKASFILKKL...</td>\n",
       "      <td>test</td>\n",
       "      <td>[A, F, L, R, S, A, K, I, S, P, I, K, V, R, E, ...</td>\n",
       "    </tr>\n",
       "    <tr>\n",
       "      <th>195125</th>\n",
       "      <td>1339079</td>\n",
       "      <td>F_bP_aldolase</td>\n",
       "      <td>Q5SHF7_THET8/3-304</td>\n",
       "      <td>PF01116.20</td>\n",
       "      <td>VTGLEILRKARAEGY.GVGAFNT.........NNMEFTQAILEAAE...</td>\n",
       "      <td>VTGLEILRKARAEGYGVGAFNTNNMEFTQAILEAAEEMKSPVILAL...</td>\n",
       "      <td>test</td>\n",
       "      <td>[V, T, G, L, E, I, L, R, K, A, R, A, E, G, Y, ...</td>\n",
       "    </tr>\n",
       "    <tr>\n",
       "      <th>195126</th>\n",
       "      <td>1339082</td>\n",
       "      <td>Beta-Casp</td>\n",
       "      <td>A4CMY8_ROBBH/252-370</td>\n",
       "      <td>PF10996.8</td>\n",
       "      <td>.QAIMLIL....LKLR.QR...NR.........................</td>\n",
       "      <td>QAIMLILLKLRQRNRIPRLPVYIDSPMGTNVFELFGRFPNWHKLSR...</td>\n",
       "      <td>test</td>\n",
       "      <td>[Q, A, I, M, L, I, L, L, K, L, R, Q, R, N, R, ...</td>\n",
       "    </tr>\n",
       "  </tbody>\n",
       "</table>\n",
       "</div>"
      ],
      "text/plain": [
       "          index       family_id           sequence_name family_accession   \n",
       "195122  1339064  Integrase_H2C2  C5L013_PERM5/1329-1385        PF17921.1  \\\n",
       "195123  1339072            AIRS    F9VEB0_LACGL/446-564       PF00586.24   \n",
       "195124  1339076   Ribosomal_L22      F2LXT7_HIPMA/5-106       PF00237.19   \n",
       "195125  1339079   F_bP_aldolase      Q5SHF7_THET8/3-304       PF01116.20   \n",
       "195126  1339082       Beta-Casp    A4CMY8_ROBBH/252-370        PF10996.8   \n",
       "\n",
       "                                         aligned_sequence   \n",
       "195122  VPEGDRSQALEAAHGD....GHASPERMLRAMMSTVWWPKMSPDID...  \\\n",
       "195123  SD......AA.......................................   \n",
       "195124  AFLRS.AK.ISPIKVREVISLVKG......KSVDEALVLLKY..SN...   \n",
       "195125  VTGLEILRKARAEGY.GVGAFNT.........NNMEFTQAILEAAE...   \n",
       "195126  .QAIMLIL....LKLR.QR...NR.........................   \n",
       "\n",
       "                                                 sequence split   \n",
       "195122  VPEGDRSQALEAAHGDGHASPERMLRAMMSTVWWPKMSPDIDAYCS...  test  \\\n",
       "195123  SDAAVIRLRHSNKALAMTTDCNARYLYLNPEIGGQIAVAEAARNII...  test   \n",
       "195124  AFLRSAKISPIKVREVISLVKGKSVDEALVLLKYSNRKASFILKKL...  test   \n",
       "195125  VTGLEILRKARAEGYGVGAFNTNNMEFTQAILEAAEEMKSPVILAL...  test   \n",
       "195126  QAIMLILLKLRQRNRIPRLPVYIDSPMGTNVFELFGRFPNWHKLSR...  test   \n",
       "\n",
       "                                             sequence_cut  \n",
       "195122  [V, P, E, G, D, R, S, Q, A, L, E, A, A, H, G, ...  \n",
       "195123  [S, D, A, A, V, I, R, L, R, H, S, N, K, A, L, ...  \n",
       "195124  [A, F, L, R, S, A, K, I, S, P, I, K, V, R, E, ...  \n",
       "195125  [V, T, G, L, E, I, L, R, K, A, R, A, E, G, Y, ...  \n",
       "195126  [Q, A, I, M, L, I, L, L, K, L, R, Q, R, N, R, ...  "
      ]
     },
     "execution_count": 4,
     "metadata": {},
     "output_type": "execute_result"
    }
   ],
   "source": [
    "# Cut up the sequences into a list of amino acid letter codes.\n",
    "# This is so we can easily convert them into a list if intiegers in preprocessing.\n",
    "sequences_cut = []\n",
    "for sequence in truncated_data.sequence:\n",
    "    sequences_cut.append([*sequence])\n",
    "truncated_data['sequence_cut'] = sequences_cut # <--- This bit of code cute the sequence up into a list of letters which we can encode.\n",
    "truncated_data.tail()"
   ]
  },
  {
   "cell_type": "code",
   "execution_count": 5,
   "metadata": {},
   "outputs": [],
   "source": [
    "# Get the training and test features and targets.\n",
    "features_train = truncated_data.query('split == \"train\"').sequence_cut\n",
    "target_train = truncated_data.query('split == \"train\"').family_accession\n",
    "\n",
    "features_test = truncated_data.query('split == \"test\"').sequence_cut\n",
    "target_test = truncated_data.query('split == \"test\"').family_accession"
   ]
  },
  {
   "cell_type": "code",
   "execution_count": 6,
   "metadata": {},
   "outputs": [
    {
     "data": {
      "text/plain": [
       "array([ 90, 183,   7, ...,   7,  49, 170])"
      ]
     },
     "execution_count": 6,
     "metadata": {},
     "output_type": "execute_result"
    }
   ],
   "source": [
    "# Fit an encoder do encoding out test data. This only needs to be fit to the training data as it contains all the test data amino acids.\n",
    "label_ = preprocessing.LabelEncoder()\n",
    "label_.fit(target_train)\n",
    "# Then transform the target data.\n",
    "target_train = label_.transform(target_train)   # <--- Transform catagorical data to numerical so that a model can interprate it.\n",
    "                                                # e.g. if...\n",
    "                                                # y = ['C','A','P','C','A']\n",
    "                                                #   label_.transform(y)\n",
    "                                                # y_encoded = [0,1,2,0,1]\n",
    "target_test = label_.transform(target_test)\n",
    "target_test"
   ]
  },
  {
   "cell_type": "code",
   "execution_count": 7,
   "metadata": {},
   "outputs": [],
   "source": [
    "# Take the data from a integer representation to a one-hot representation. Integer representation can imply a hierarchy which does not exist to the model.\n",
    "target_train = tf.keras.utils.to_categorical(target_train)  # <--- Transform classes to one-hot representation.\n",
    "                                                            # e.g. if... \n",
    "                                                            # y = [0, 2, 1, 1]\n",
    "                                                            #   tf.keras.utils.to_categorical(y)\n",
    "                                                            # y_one-hot = [1,0,0]\n",
    "                                                            #             [0,0,1]\n",
    "                                                            #             [0,1,0]\n",
    "                                                            #             [0,1,0]\n",
    "target_test = tf.keras.utils.to_categorical(target_test)"
   ]
  },
  {
   "cell_type": "code",
   "execution_count": 8,
   "metadata": {},
   "outputs": [
    {
     "name": "stdout",
     "output_type": "stream",
     "text": [
      "The substitutions made...\n",
      "{'l': 1, 'a': 2, 'g': 3, 'v': 4, 'i': 5, 'e': 6, 's': 7, 'd': 8, 'r': 9, 'k': 10, 't': 11, 'p': 12, 'f': 13, 'n': 14, 'q': 15, 'y': 16, 'm': 17, 'h': 18, 'c': 19, 'w': 20, 'x': 21, 'u': 22, 'b': 23}\n"
     ]
    }
   ],
   "source": [
    "# The Tokenizer takes a maximum number of words and converts them to numerical tokens. In this case, our amino acid letter codes.\n",
    "tokenizer_num_words = 2000\n",
    "tokenizer_seq = Tokenizer(num_words = tokenizer_num_words) # <--- Initialise Tokenizer with a maximum of 2000 word token to convert to intigers. We don't need that many.\n",
    "tokenizer_seq.fit_on_texts(features_train) # <--- Fit the tokens to out dataset features.\n",
    "print('The substitutions made...')\n",
    "print(tokenizer_seq.word_index)"
   ]
  },
  {
   "cell_type": "code",
   "execution_count": 9,
   "metadata": {},
   "outputs": [],
   "source": [
    "# Uset the token codes to convert our amino acid lists to lists of numerical tokens instead.\n",
    "features_train = tokenizer_seq.texts_to_sequences(features_train)\n",
    "features_test = tokenizer_seq.texts_to_sequences(features_test)"
   ]
  },
  {
   "cell_type": "code",
   "execution_count": 10,
   "metadata": {},
   "outputs": [],
   "source": [
    "# Here, we pad the sequences so that the feature data is all the same shape. This is important for efficiency of out model.\n",
    "max_length = 100\n",
    "features_train = pad_sequences(features_train,maxlen=max_length,padding='post',truncating='post')\n",
    "    # maxlen - Make sure all feature entries are the same shape.\n",
    "    # padding='post' - Ensures padding is added to the end of the matrix.\n",
    "    # truncating='post' - Ensures that elements beyond the maximum length are truncated at the same end as padding.\n",
    "features_test = pad_sequences(features_test,maxlen=max_length,padding='post',truncating='post')"
   ]
  },
  {
   "cell_type": "code",
   "execution_count": 11,
   "metadata": {},
   "outputs": [],
   "source": [
    "# Input paramtered for the model.\n",
    "optimizer = 'adam'\n",
    "loss = 'categorical_crossentropy'\n",
    "# categorical_crossentropy - As there are more than two categories we use this loss function. \n",
    "# If there were only two we would use binary_crossentropy.\n",
    "# If we were using numerical representation we would use sparse_categorical_crossentropy\n",
    "metrics = [\"categorical_accuracy\"]\n",
    "vocab = ft.acid_list\n",
    "dropout_ratio = 0.2\n",
    "embedding_size = 100\n",
    "X_train = features_train\n",
    "y_train = target_train\n",
    "X_test = features_test\n",
    "y_test = target_test"
   ]
  },
  {
   "cell_type": "code",
   "execution_count": 12,
   "metadata": {},
   "outputs": [
    {
     "name": "stdout",
     "output_type": "stream",
     "text": [
      "Model: \"sequential\"\n",
      "_________________________________________________________________\n",
      " Layer (type)                Output Shape              Param #   \n",
      "=================================================================\n",
      " embedding (Embedding)       (None, 100, 100)          2400      \n",
      "                                                                 \n",
      " dropout (Dropout)           (None, 100, 100)          0         \n",
      "                                                                 \n",
      " conv1d (Conv1D)             (None, 100, 64)           102464    \n",
      "                                                                 \n",
      " activation (Activation)     (None, 100, 64)           0         \n",
      "                                                                 \n",
      " dropout_1 (Dropout)         (None, 100, 64)           0         \n",
      "                                                                 \n",
      " batch_normalization (BatchN  (None, 100, 64)          256       \n",
      " ormalization)                                                   \n",
      "                                                                 \n",
      " max_pooling1d (MaxPooling1D  (None, 33, 64)           0         \n",
      " )                                                               \n",
      "                                                                 \n",
      " bidirectional (Bidirectiona  (None, 128)              66048     \n",
      " l)                                                              \n",
      "                                                                 \n",
      " batch_normalization_1 (Batc  (None, 128)              512       \n",
      " hNormalization)                                                 \n",
      "                                                                 \n",
      " flatten (Flatten)           (None, 128)               0         \n",
      "                                                                 \n",
      " dense (Dense)               (None, 200)               25800     \n",
      "                                                                 \n",
      "=================================================================\n",
      "Total params: 197,480\n",
      "Trainable params: 197,096\n",
      "Non-trainable params: 384\n",
      "_________________________________________________________________\n"
     ]
    }
   ],
   "source": [
    "# Based on the model used by Henrik Åhl for pfam classification.\n",
    "#   https://www.kaggle.com/code/henrikhl/pfam-classification#Model-formulation\n",
    "model = keras.Sequential() # <--- The sequential class initialises a model with a linear stack of layers.\n",
    "model.add(layers.Embedding(len(vocab),embedding_size,input_length=max_length))\n",
    "    # Embedding is necessary to represent natural language as high dimension vectors.\n",
    "    # This allows the model to explain relationships between amino acids in out sequences and how they may determine the catagorisation.\n",
    "model.add(Dropout(dropout_ratio))\n",
    "    # Dropout will randomly drop node connections to prevent over fitting of the training data.\n",
    "    # This helps to stop single nodes having large influence on the output.\n",
    "model.add(Conv1D(filters=64, kernel_size=16, padding=\"same\"))\n",
    "    # This layer applies a window to the 1D data sequence.\n",
    "    # This allows it to identify local patterns in the sequence which may pertain to certain families.\n",
    "model.add(Activation('leaky_relu')) # <--- Leaky ReLU prevents 'dying ReLU' where negative inputs result in nodes only outputting 0.\n",
    "    # Activation applies some function to the input data in order to generate the output.\n",
    "    # This allows for modelling more complicated relationships as the activation function can apply non-linear transformations.\n",
    "model.add(Dropout(dropout_ratio))\n",
    "model.add(BatchNormalization())\n",
    "    # Batch normalization is exactly what it sounds like.\n",
    "    # Each input is scaled to prevent exceptionally large or small activation gradients.\n",
    "    # This also benefits other acpects such as overfitting and performance.\n",
    "model.add(MaxPooling1D(pool_size=3))\n",
    "    # Similar to Conv1D a window is applied.\n",
    "    # The sum of the window is taken as the output.\n",
    "model.add(Bidirectional(LSTM(64, dropout=dropout_ratio, recurrent_dropout=dropout_ratio)))\n",
    "    # Bidirectional LSTM allows the netwrok to process forward and backward.\n",
    "model.add(BatchNormalization())\n",
    "model.add(Flatten())\n",
    "    # This layer takes a multidimensional input and flattens it to a 1D tensor.\n",
    "    # This is necessary as the following layer will classify the output into one of the classes.\n",
    "model.add(Dense(families_to_include_count, activation=\"softmax\"))\n",
    "    # Classify the output as one of the protein families.\n",
    "model.compile(optimizer=optimizer, loss=loss, metrics=metrics)\n",
    "    # Compile the model so that it can then be applied.\n",
    "model.summary()"
   ]
  },
  {
   "cell_type": "code",
   "execution_count": 13,
   "metadata": {},
   "outputs": [
    {
     "name": "stdout",
     "output_type": "stream",
     "text": [
      "Epoch 1/10\n",
      "611/611 [==============================] - 187s 295ms/step - loss: 0.9660 - categorical_accuracy: 0.8332 - val_loss: 0.1812 - val_categorical_accuracy: 0.9699\n",
      "Epoch 2/10\n",
      "611/611 [==============================] - 175s 286ms/step - loss: 0.1042 - categorical_accuracy: 0.9797 - val_loss: 0.0541 - val_categorical_accuracy: 0.9877\n",
      "Epoch 3/10\n",
      "611/611 [==============================] - 166s 272ms/step - loss: 0.0565 - categorical_accuracy: 0.9878 - val_loss: 0.0354 - val_categorical_accuracy: 0.9917\n",
      "Epoch 4/10\n",
      "611/611 [==============================] - 165s 270ms/step - loss: 0.0376 - categorical_accuracy: 0.9914 - val_loss: 0.0293 - val_categorical_accuracy: 0.9930\n",
      "Epoch 5/10\n",
      "611/611 [==============================] - 173s 283ms/step - loss: 0.0280 - categorical_accuracy: 0.9933 - val_loss: 0.0291 - val_categorical_accuracy: 0.9914\n",
      "Epoch 6/10\n",
      "611/611 [==============================] - 167s 273ms/step - loss: 0.0231 - categorical_accuracy: 0.9939 - val_loss: 0.0201 - val_categorical_accuracy: 0.9941\n",
      "Epoch 7/10\n",
      "611/611 [==============================] - 168s 275ms/step - loss: 0.0184 - categorical_accuracy: 0.9953 - val_loss: 0.0165 - val_categorical_accuracy: 0.9962\n",
      "Epoch 8/10\n",
      "611/611 [==============================] - 172s 281ms/step - loss: 0.0166 - categorical_accuracy: 0.9955 - val_loss: 0.0147 - val_categorical_accuracy: 0.9959\n",
      "Epoch 9/10\n",
      "611/611 [==============================] - 167s 273ms/step - loss: 0.0129 - categorical_accuracy: 0.9966 - val_loss: 0.0158 - val_categorical_accuracy: 0.9957\n",
      "Epoch 10/10\n",
      "611/611 [==============================] - 166s 272ms/step - loss: 0.0124 - categorical_accuracy: 0.9966 - val_loss: 0.0164 - val_categorical_accuracy: 0.9955\n"
     ]
    }
   ],
   "source": [
    "es = EarlyStopping(monitor=\"val_loss\", patience=3, verbose=1)\n",
    "    # Early stopping is used to prevent overfitting.\n",
    "    # This will stop the model is the training and validation loss diverge.\n",
    "\n",
    "history = model.fit(\n",
    "    X_train, # <--- Training features.\n",
    "    y_train, # <--- Training labels.\n",
    "    epochs=10, # <--- Repeats on the training set to run\n",
    "    batch_size=256, # <--- How many datapoints to include in each epoch.\n",
    "    validation_data=(X_test, y_test), # <--- Validation data.\n",
    "    callbacks=[es] # <--- Early stopping method.\n",
    ")"
   ]
  },
  {
   "cell_type": "code",
   "execution_count": 20,
   "metadata": {},
   "outputs": [
    {
     "data": {
      "text/html": [
       "<div>\n",
       "<style scoped>\n",
       "    .dataframe tbody tr th:only-of-type {\n",
       "        vertical-align: middle;\n",
       "    }\n",
       "\n",
       "    .dataframe tbody tr th {\n",
       "        vertical-align: top;\n",
       "    }\n",
       "\n",
       "    .dataframe thead th {\n",
       "        text-align: right;\n",
       "    }\n",
       "</style>\n",
       "<table border=\"1\" class=\"dataframe\">\n",
       "  <thead>\n",
       "    <tr style=\"text-align: right;\">\n",
       "      <th></th>\n",
       "      <th>loss</th>\n",
       "      <th>categorical_accuracy</th>\n",
       "      <th>val_loss</th>\n",
       "      <th>val_categorical_accuracy</th>\n",
       "    </tr>\n",
       "  </thead>\n",
       "  <tbody>\n",
       "    <tr>\n",
       "      <th>0</th>\n",
       "      <td>0.965993</td>\n",
       "      <td>0.833192</td>\n",
       "      <td>0.181156</td>\n",
       "      <td>0.969886</td>\n",
       "    </tr>\n",
       "    <tr>\n",
       "      <th>1</th>\n",
       "      <td>0.104163</td>\n",
       "      <td>0.979722</td>\n",
       "      <td>0.054115</td>\n",
       "      <td>0.987697</td>\n",
       "    </tr>\n",
       "    <tr>\n",
       "      <th>2</th>\n",
       "      <td>0.056455</td>\n",
       "      <td>0.987836</td>\n",
       "      <td>0.035368</td>\n",
       "      <td>0.991712</td>\n",
       "    </tr>\n",
       "    <tr>\n",
       "      <th>3</th>\n",
       "      <td>0.037590</td>\n",
       "      <td>0.991406</td>\n",
       "      <td>0.029274</td>\n",
       "      <td>0.992999</td>\n",
       "    </tr>\n",
       "    <tr>\n",
       "      <th>4</th>\n",
       "      <td>0.028002</td>\n",
       "      <td>0.993294</td>\n",
       "      <td>0.029107</td>\n",
       "      <td>0.991403</td>\n",
       "    </tr>\n",
       "    <tr>\n",
       "      <th>5</th>\n",
       "      <td>0.023147</td>\n",
       "      <td>0.993940</td>\n",
       "      <td>0.020055</td>\n",
       "      <td>0.994132</td>\n",
       "    </tr>\n",
       "    <tr>\n",
       "      <th>6</th>\n",
       "      <td>0.018388</td>\n",
       "      <td>0.995258</td>\n",
       "      <td>0.016463</td>\n",
       "      <td>0.996191</td>\n",
       "    </tr>\n",
       "    <tr>\n",
       "      <th>7</th>\n",
       "      <td>0.016584</td>\n",
       "      <td>0.995546</td>\n",
       "      <td>0.014664</td>\n",
       "      <td>0.995882</td>\n",
       "    </tr>\n",
       "    <tr>\n",
       "      <th>8</th>\n",
       "      <td>0.012915</td>\n",
       "      <td>0.996596</td>\n",
       "      <td>0.015758</td>\n",
       "      <td>0.995676</td>\n",
       "    </tr>\n",
       "    <tr>\n",
       "      <th>9</th>\n",
       "      <td>0.012427</td>\n",
       "      <td>0.996557</td>\n",
       "      <td>0.016372</td>\n",
       "      <td>0.995521</td>\n",
       "    </tr>\n",
       "  </tbody>\n",
       "</table>\n",
       "</div>"
      ],
      "text/plain": [
       "       loss  categorical_accuracy  val_loss  val_categorical_accuracy\n",
       "0  0.965993              0.833192  0.181156                  0.969886\n",
       "1  0.104163              0.979722  0.054115                  0.987697\n",
       "2  0.056455              0.987836  0.035368                  0.991712\n",
       "3  0.037590              0.991406  0.029274                  0.992999\n",
       "4  0.028002              0.993294  0.029107                  0.991403\n",
       "5  0.023147              0.993940  0.020055                  0.994132\n",
       "6  0.018388              0.995258  0.016463                  0.996191\n",
       "7  0.016584              0.995546  0.014664                  0.995882\n",
       "8  0.012915              0.996596  0.015758                  0.995676\n",
       "9  0.012427              0.996557  0.016372                  0.995521"
      ]
     },
     "execution_count": 20,
     "metadata": {},
     "output_type": "execute_result"
    }
   ],
   "source": [
    "history_df"
   ]
  },
  {
   "cell_type": "code",
   "execution_count": 24,
   "metadata": {},
   "outputs": [
    {
     "name": "stdout",
     "output_type": "stream",
     "text": [
      "Index(['loss', 'categorical_accuracy', 'val_loss', 'val_categorical_accuracy'], dtype='object')\n"
     ]
    },
    {
     "data": {
      "text/plain": [
       "<Axes: title={'center': 'Loss (blue) vs validation loss (orange)'}, xlabel='Epochs', ylabel='Loss'>"
      ]
     },
     "execution_count": 24,
     "metadata": {},
     "output_type": "execute_result"
    },
    {
     "data": {
      "image/png": "[encoded data removed]",
      "text/plain": [
       "<Figure size 640x480 with 1 Axes>"
      ]
     },
     "metadata": {},
     "output_type": "display_data"
    }
   ],
   "source": [
    "history_df = pd.DataFrame(history.history)\n",
    "print(history_df.columns)\n",
    "history_df[history_df.columns[0]].plot()\n",
    "history_df[history_df.columns[2]].plot(title='Loss (blue) vs validation loss (orange)',xlabel='Epochs',ylabel='Loss')"
   ]
  },
  {
   "cell_type": "code",
   "execution_count": 26,
   "metadata": {},
   "outputs": [
    {
     "data": {
      "text/plain": [
       "<Axes: title={'center': 'Categorical accuracy (blue) vs categorical validation accuracy (orange)'}, xlabel='Epochs', ylabel='Loss'>"
      ]
     },
     "execution_count": 26,
     "metadata": {},
     "output_type": "execute_result"
    },
    {
     "data": {
      "image/png": "[encoded data removed]",
      "text/plain": [
       "<Figure size 640x480 with 1 Axes>"
      ]
     },
     "metadata": {},
     "output_type": "display_data"
    }
   ],
   "source": [
    "history_df[history_df.columns[1]].plot()\n",
    "history_df[history_df.columns[3]].plot(title='Categorical accuracy (blue) vs categorical validation accuracy (orange)',xlabel='Epochs',ylabel='Loss')"
   ]
  },
  {
   "attachments": {},
   "cell_type": "markdown",
   "metadata": {},
   "source": [
    "This shows we have good convergence of loss and accuracy in the validation set with training set as we run the model over 10 epochs.\\"
   ]
  }
 ],
 "metadata": {
  "kernelspec": {
   "display_name": "Python 3",
   "language": "python",
   "name": "python3"
  },
  "language_info": {
   "codemirror_mode": {
    "name": "ipython",
    "version": 3
   },
   "file_extension": ".py",
   "mimetype": "text/x-python",
   "name": "python",
   "nbconvert_exporter": "python",
   "pygments_lexer": "ipython3",
   "version": "3.11.2"
  },
  "orig_nbformat": 4
 },
 "nbformat": 4,
 "nbformat_minor": 2
}
